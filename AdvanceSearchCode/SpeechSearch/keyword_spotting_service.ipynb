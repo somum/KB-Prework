{
 "cells": [
  {
   "cell_type": "code",
   "execution_count": 23,
   "id": "killing-basement",
   "metadata": {},
   "outputs": [
    {
     "name": "stdout",
     "output_type": "stream",
     "text": [
      "WARNING:tensorflow:11 out of the last 11 calls to <function Model.make_predict_function.<locals>.predict_function at 0x00000197ED6E8A60> triggered tf.function retracing. Tracing is expensive and the excessive number of tracings could be due to (1) creating @tf.function repeatedly in a loop, (2) passing tensors with different shapes, (3) passing Python objects instead of tensors. For (1), please define your @tf.function outside of the loop. For (2), @tf.function has experimental_relax_shapes=True option that relaxes argument shapes that can avoid unnecessary retracing. For (3), please refer to https://www.tensorflow.org/guide/function#controlling_retracing and https://www.tensorflow.org/api_docs/python/tf/function for  more details.\n",
      "Illumina\n"
     ]
    }
   ],
   "source": [
    "import librosa\n",
    "import tensorflow as tf\n",
    "import numpy as np\n",
    "\n",
    "#if we runn LSTM\n",
    "config = tf.compat.v1.ConfigProto()\n",
    "config.gpu_options.allow_growth = True\n",
    "sess = tf.compat.v1.Session(config=config)\n",
    "\n",
    "SAVED_MODEL_PATH = \"model.h5\"\n",
    "SAMPLES_TO_CONSIDER = 3262\n",
    "\n",
    "class _Keyword_Spotting_Service:\n",
    "    model = None\n",
    "    _mapping = [\n",
    "        \"Illumina\",\n",
    "        \"Patagonic\"\n",
    "    ]\n",
    "    _instance = None\n",
    "\n",
    "\n",
    "    def predict(self, file_path):\n",
    "\n",
    "        # extract MFCC\n",
    "        MFCCs = self.preprocess(file_path)\n",
    "\n",
    "        # 4-dim array to feed to the model(# samples, # time steps, # coefficients, 1)\n",
    "        MFCCs = MFCCs[np.newaxis, ..., np.newaxis]\n",
    "\n",
    "        # predicted label\n",
    "        predictions = self.model.predict(MFCCs)\n",
    "        predicted_index = np.argmax(predictions)\n",
    "        predicted_keyword = self._mapping[predicted_index]\n",
    "        return predicted_keyword\n",
    "\n",
    "\n",
    "    def preprocess(self, file_path, num_mfcc=13, n_fft=2048, hop_length=512):\n",
    "        # load audio file\n",
    "        signal, sample_rate = librosa.load(file_path)\n",
    "\n",
    "        if len(signal) >= SAMPLES_TO_CONSIDER:\n",
    "            signal = signal[:SAMPLES_TO_CONSIDER]\n",
    "\n",
    "            # extract MFCCs\n",
    "            MFCCs = librosa.feature.mfcc(signal, sample_rate, n_mfcc=num_mfcc, n_fft=n_fft,\n",
    "                                         hop_length=hop_length)\n",
    "        return MFCCs.T\n",
    "\n",
    "\n",
    "def Keyword_Spotting_Service():\n",
    "    # create instance\n",
    "    if _Keyword_Spotting_Service._instance is None:\n",
    "        _Keyword_Spotting_Service._instance = _Keyword_Spotting_Service()\n",
    "        _Keyword_Spotting_Service.model = tf.keras.models.load_model(SAVED_MODEL_PATH)\n",
    "    return _Keyword_Spotting_Service._instance\n",
    "\n",
    "\n",
    "if __name__ == \"__main__\":\n",
    "\n",
    "    #2 instances of the keyword spotting service\n",
    "    kss = Keyword_Spotting_Service()\n",
    "    kss1 = Keyword_Spotting_Service()\n",
    "\n",
    "    # check that different instances of the keyword on same object\n",
    "    assert kss is kss1\n",
    "\n",
    "    # prediction\n",
    "    keyword  = kss.predict(\"test.wav\")\n",
    "    print(keyword)"
   ]
  },
  {
   "cell_type": "code",
   "execution_count": null,
   "id": "increased-nepal",
   "metadata": {},
   "outputs": [],
   "source": []
  }
 ],
 "metadata": {
  "kernelspec": {
   "display_name": "Python 3",
   "language": "python",
   "name": "python3"
  },
  "language_info": {
   "codemirror_mode": {
    "name": "ipython",
    "version": 3
   },
   "file_extension": ".py",
   "mimetype": "text/x-python",
   "name": "python",
   "nbconvert_exporter": "python",
   "pygments_lexer": "ipython3",
   "version": "3.8.0"
  }
 },
 "nbformat": 4,
 "nbformat_minor": 5
}
