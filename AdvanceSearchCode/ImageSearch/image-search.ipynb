{
 "cells": [
  {
   "cell_type": "code",
   "execution_count": null,
   "metadata": {},
   "outputs": [],
   "source": [
    "# Immport Libraries\n",
    "import numpy as np\n",
    "import tensorflow.keras as keras\n",
    "from tensorflow.keras.preprocessing.image import ImageDataGenerator\n",
    "from tensorflow.keras.preprocessing import image\n",
    "from tensorflow.keras.applications.mobilenet import preprocess_input, decode_predictions\n",
    "from tensorflow.keras.layers import GlobalAveragePooling2D, Dense\n",
    "from tensorflow.keras.models import Model\n",
    "\n",
    "from IPython.display import Image"
   ]
  },
  {
   "cell_type": "markdown",
   "metadata": {},
   "source": [
    "<h4>MobileNetV2 Model<h4>"
   ]
  },
  {
   "cell_type": "code",
   "execution_count": null,
   "metadata": {},
   "outputs": [],
   "source": [
    "# Load Model\n",
    "model = keras.applications.mobilenet_v2.MobileNetV2()"
   ]
  },
  {
   "cell_type": "code",
   "execution_count": null,
   "metadata": {},
   "outputs": [],
   "source": [
    "def prepare_image(filepath):\n",
    "   img = image.load_img(filepath, target_size=(224, 224))\n",
    "   img_array = image.img_to_array(img)\n",
    "   img_array_expanded_dims = np.expand_dims(img_array, axis=0)\n",
    "   return keras.applications.mobilenet.preprocess_input(img_array_expanded_dims)"
   ]
  },
  {
   "cell_type": "code",
   "execution_count": null,
   "metadata": {},
   "outputs": [],
   "source": [
    "img_file='../input/producttrain/train_dir/1/10new.jpg'\n",
    "Image(filename=img_file)"
   ]
  },
  {
   "cell_type": "code",
   "execution_count": null,
   "metadata": {},
   "outputs": [],
   "source": [
    "# check model prediction\n",
    "preprocessed_image = prepare_image(img_file)\n",
    "predictions = model.predict(preprocessed_image)\n",
    "results = decode_predictions(predictions)\n",
    "print(results)"
   ]
  },
  {
   "cell_type": "code",
   "execution_count": null,
   "metadata": {},
   "outputs": [],
   "source": [
    "# Data Generator\n",
    "train_datagen=ImageDataGenerator(preprocessing_function=preprocess_input)\n",
    "\n",
    "train_generator=train_datagen.flow_from_directory('../input/producttrain/train_dir',\n",
    "                                                target_size=(224,224),\n",
    "                                                color_mode='rgb',\n",
    "                                                batch_size=32,\n",
    "                                                class_mode='categorical',\n",
    "                                                shuffle=True)"
   ]
  },
  {
   "cell_type": "code",
   "execution_count": null,
   "metadata": {},
   "outputs": [],
   "source": [
    "num_classes = 33\n",
    "prediction_dict = {0: \"1\", 1: \"10\", 2: \"11\", 3: \"12\", 4: \"13\", 5: \"14\", 6: \"15\", 7: \"16\", 8: \"17\", 9: \"18\", 10: \"19\", 11: \"2\", 12: \"20\", 13: \"21\", 14: \"22\", 15: \"23\", 16: \"24\", 17: \"25\", 18: \"26\", 19: \"27\", 20: \"28\", 21: \"29\", 22: \"3\", 23: \"30\", 24: \"31\", 25: \"32\", 26: \"4\", 27: \"5\", 28: \"6\", 29: \"7\", 30: \"8\", 31: \"9\"}"
   ]
  },
  {
   "cell_type": "code",
   "execution_count": null,
   "metadata": {},
   "outputs": [],
   "source": [
    "base_model=keras.applications.mobilenet_v2.MobileNetV2(input_shape=(224,224,3),weights='imagenet',include_top=False) #imports the mobilenet model and discards the last 1000 neuron layer.\n",
    "\n",
    "# Extra Layers to Model\n",
    "x=base_model.output\n",
    "x=GlobalAveragePooling2D()(x)\n",
    "x=Dense(1024,activation='relu')(x) \n",
    "x=Dense(1024,activation='relu')(x) \n",
    "x=Dense(512,activation='relu')(x) \n",
    "preds=Dense(num_classes,activation='softmax')(x) \n",
    "\n",
    "model=Model(inputs=base_model.input,outputs=preds)"
   ]
  },
  {
   "cell_type": "code",
   "execution_count": null,
   "metadata": {},
   "outputs": [],
   "source": [
    "# Check layers no. & name\n",
    "for i,layer in enumerate(model.layers):\n",
    "    print(i,layer.name)"
   ]
  },
  {
   "cell_type": "code",
   "execution_count": null,
   "metadata": {},
   "outputs": [],
   "source": [
    "# set trainable layers\n",
    "for layer in model.layers[:155]:\n",
    "    layer.trainable=False\n",
    "for layer in model.layers[155:]:\n",
    "    layer.trainable=True\n",
    "\n",
    "# Compile Model\n",
    "model.compile(loss='categorical_crossentropy', optimizer='adam',metrics=['accuracy'])\n",
    "model.summary()"
   ]
  },
  {
   "cell_type": "code",
   "execution_count": null,
   "metadata": {},
   "outputs": [],
   "source": [
    "# Model Train\n",
    "num_epochs = 10\n",
    "step_size_train=train_generator.n//train_generator.batch_size\n",
    "model.fit_generator(generator=train_generator, steps_per_epoch=step_size_train, epochs=num_epochs)"
   ]
  },
  {
   "cell_type": "code",
   "execution_count": null,
   "metadata": {},
   "outputs": [],
   "source": [
    "# Test the new model\n",
    "preprocessed_image = prepare_image('../input/product/train_dir/11/0new.jpg')\n",
    "predictions = model.predict(preprocessed_image)\n",
    "maxindex = int(np.argmax(predictions))\n",
    "print(predictions[0][maxindex],prediction_dict[maxindex])"
   ]
  },
  {
   "cell_type": "code",
   "execution_count": null,
   "metadata": {},
   "outputs": [],
   "source": [
    "classes = np.argmax(predictions, axis = 1)\n",
    "print(classes)"
   ]
  },
  {
   "cell_type": "code",
   "execution_count": null,
   "metadata": {},
   "outputs": [],
   "source": [
    "classes = train_generator.class_indices\n",
    "\n",
    "for k, v in classes.items():  \n",
    "    if v == 2:\n",
    "        print(k)"
   ]
  },
  {
   "cell_type": "code",
   "execution_count": null,
   "metadata": {},
   "outputs": [],
   "source": [
    "classes"
   ]
  },
  {
   "cell_type": "markdown",
   "metadata": {},
   "source": [
    "<h4>ResNet50 Model</h4> "
   ]
  },
  {
   "cell_type": "code",
   "execution_count": null,
   "metadata": {},
   "outputs": [],
   "source": [
    "# Immport Libraries\n",
    "import numpy as np\n",
    "import tensorflow.keras as keras\n",
    "from tensorflow.keras.preprocessing.image import ImageDataGenerator\n",
    "from tensorflow.keras.preprocessing import image\n",
    "from tensorflow.keras.applications.resnet50 import preprocess_input, decode_predictions\n",
    "from tensorflow.keras.layers import GlobalAveragePooling2D, Dense\n",
    "from tensorflow.keras.models import Model\n",
    "\n",
    "from IPython.display import Image"
   ]
  },
  {
   "cell_type": "code",
   "execution_count": null,
   "metadata": {},
   "outputs": [],
   "source": [
    "# Load Model\n",
    "model = keras.applications.ResNet50()"
   ]
  },
  {
   "cell_type": "code",
   "execution_count": null,
   "metadata": {},
   "outputs": [],
   "source": [
    "#image Preprocess\n",
    "def prepare_image(filepath):\n",
    "   img = image.load_img(filepath, target_size=(224, 224))\n",
    "   img_array = image.img_to_array(img)\n",
    "   img_array_expanded_dims = np.expand_dims(img_array, axis=0)\n",
    "   return keras.applications.resnet50.preprocess_input(img_array_expanded_dims)"
   ]
  },
  {
   "cell_type": "code",
   "execution_count": null,
   "metadata": {},
   "outputs": [],
   "source": [
    "img_file='../input/producttrain/train_dir/1/1.jpg'\n",
    "Image(filename=img_file)"
   ]
  },
  {
   "cell_type": "code",
   "execution_count": null,
   "metadata": {},
   "outputs": [],
   "source": [
    "# check model prediction\n",
    "preprocessed_image = prepare_image(img_file)\n",
    "predictions = model.predict(preprocessed_image)\n",
    "results = decode_predictions(predictions)\n",
    "print(results)"
   ]
  },
  {
   "cell_type": "code",
   "execution_count": null,
   "metadata": {},
   "outputs": [],
   "source": [
    "# Data Generator\n",
    "train_datagen=ImageDataGenerator(preprocessing_function=preprocess_input)\n",
    "\n",
    "train_generator=train_datagen.flow_from_directory('../input/producttrain/train_dir',\n",
    "                                                target_size=(224,224),\n",
    "                                                color_mode='rgb',\n",
    "                                                batch_size=32,\n",
    "                                                class_mode='categorical',\n",
    "                                                shuffle=True)"
   ]
  },
  {
   "cell_type": "code",
   "execution_count": null,
   "metadata": {},
   "outputs": [],
   "source": [
    "num_classes=33\n",
    "base_model=keras.applications.ResNet50(input_shape=(224,224,3),weights='imagenet',include_top=False) #imports the mobilenet model and discards the last 1000 neuron layer.\n",
    "\n",
    "# Extra Layers to Model\n",
    "x=base_model.output\n",
    "x=GlobalAveragePooling2D()(x)\n",
    "x=Dense(1024,activation='relu')(x) \n",
    "x=Dense(1024,activation='relu')(x) \n",
    "x=Dense(512,activation='relu')(x) \n",
    "preds=Dense(num_classes,activation='softmax')(x) \n",
    "\n",
    "model=Model(inputs=base_model.input,outputs=preds)"
   ]
  },
  {
   "cell_type": "code",
   "execution_count": null,
   "metadata": {},
   "outputs": [],
   "source": [
    "# Check layers no. & name\n",
    "for i,layer in enumerate(model.layers):\n",
    "    print(i,layer.name)"
   ]
  },
  {
   "cell_type": "code",
   "execution_count": null,
   "metadata": {},
   "outputs": [],
   "source": [
    "# set trainable layers\n",
    "for layer in model.layers[:175]:\n",
    "    layer.trainable=False\n",
    "for layer in model.layers[175:]:\n",
    "    layer.trainable=True\n",
    "\n",
    "# Compile Model\n",
    "model.compile(loss='categorical_crossentropy', optimizer='adam',metrics=['accuracy'])\n",
    "model.summary()"
   ]
  },
  {
   "cell_type": "code",
   "execution_count": null,
   "metadata": {},
   "outputs": [],
   "source": [
    "# Train Model\n",
    "num_epochs = 10\n",
    "step_size_train=train_generator.n//train_generator.batch_size\n",
    "model.fit_generator(generator=train_generator, steps_per_epoch=step_size_train, epochs=num_epochs)"
   ]
  },
  {
   "cell_type": "code",
   "execution_count": null,
   "metadata": {},
   "outputs": [],
   "source": [
    "img_file='../input/testdata1/test1.jpg'\n",
    "Image(filename=img_file)"
   ]
  },
  {
   "cell_type": "code",
   "execution_count": null,
   "metadata": {},
   "outputs": [],
   "source": [
    "#prediction purpose\n",
    "\n",
    "import requests,io\n",
    "import PIL\n",
    "from PIL import Image\n",
    "\n",
    "def prepare_image(filepath):\n",
    "   response = requests.get(filepath)\n",
    "   image_bytes = io.BytesIO(response.content)\n",
    "   img = PIL.Image.open(image_bytes)\n",
    "   img = img.resize((224, 224))\n",
    "   img_array = image.img_to_array(img)\n",
    "   img_array_expanded_dims = np.expand_dims(img_array, axis=0)\n",
    "   return keras.applications.resnet50.preprocess_input(img_array_expanded_dims)"
   ]
  },
  {
   "cell_type": "code",
   "execution_count": null,
   "metadata": {},
   "outputs": [],
   "source": [
    "# Test model\n",
    "preprocessed_image = prepare_image(\"https://cdn.chaldal.net/_mpimage/ponds-cold-cream-28-gm?src=https%3A%2F%2Feggyolk.chaldal.com%2Fapi%2FPicture%2FRaw%3FpictureId%3D44874&q=low&v=1\")\n",
    "predictions = model.predict(preprocessed_image)\n",
    "maxindex = int(np.argmax(predictions))\n",
    "#print(predictions[0][maxindex],prediction_dict[maxindex])"
   ]
  },
  {
   "cell_type": "code",
   "execution_count": null,
   "metadata": {},
   "outputs": [],
   "source": [
    "# Test model\n",
    "\n",
    "preprocessed_image = prepare_image(img_file)\n",
    "predictions = model.predict(preprocessed_image)\n",
    "maxindex = int(np.argmax(predictions))\n",
    "#print(predictions[0][maxindex],prediction_dict[maxindex])"
   ]
  },
  {
   "cell_type": "code",
   "execution_count": null,
   "metadata": {},
   "outputs": [],
   "source": [
    "classes = np.argmax(predictions, axis = 1)\n",
    "print(classes)"
   ]
  },
  {
   "cell_type": "code",
   "execution_count": null,
   "metadata": {},
   "outputs": [],
   "source": [
    "train_generator.class_indices"
   ]
  },
  {
   "cell_type": "code",
   "execution_count": null,
   "metadata": {},
   "outputs": [],
   "source": [
    "prediction_dict = {0: \"1\", 1: \"10\", 2: \"11\", 3: \"12\", 4: \"13\", 5: \"14\", 6: \"15\", 7: \"16\", 8: \"17\", 9: \"18\", 10: \"19\", 11: \"2\", 12: \"20\", 13: \"21\", 14: \"22\", 15: \"23\", 16: \"24\", 17: \"25\", 18: \"26\", 19: \"27\", 20: \"28\", 21: \"29\", 22: \"3\", 23: \"30\", 24: \"31\", 25: \"32\", 26: \"33\", 27: \"4\", 28: \"5\", 29: \"6\", 30: \"7\", 31: \"8\", 32: \"9\"}"
   ]
  },
  {
   "cell_type": "code",
   "execution_count": null,
   "metadata": {},
   "outputs": [],
   "source": [
    "className = train_generator.class_indices\n",
    "\n",
    "for k, v in className.items():  \n",
    "    if v == classes:\n",
    "        print(k)"
   ]
  },
  {
   "cell_type": "code",
   "execution_count": null,
   "metadata": {},
   "outputs": [],
   "source": [
    "model.save('modelRes50.h5')"
   ]
  },
  {
   "cell_type": "markdown",
   "metadata": {},
   "source": [
    "<h4>NASNetLarge</h4>"
   ]
  },
  {
   "cell_type": "code",
   "execution_count": null,
   "metadata": {},
   "outputs": [],
   "source": [
    "# Immport Libraries\n",
    "import numpy as np\n",
    "import tensorflow.keras as keras\n",
    "from tensorflow.keras.preprocessing.image import ImageDataGenerator\n",
    "from tensorflow.keras.preprocessing import image\n",
    "from tensorflow.keras.applications.nasnet import preprocess_input, decode_predictions\n",
    "from tensorflow.keras.layers import GlobalAveragePooling2D, Dense\n",
    "from tensorflow.keras.models import Model\n",
    "\n",
    "from IPython.display import Image"
   ]
  },
  {
   "cell_type": "code",
   "execution_count": null,
   "metadata": {},
   "outputs": [],
   "source": [
    "# Load model\n",
    "model = keras.applications.NASNetLarge()"
   ]
  },
  {
   "cell_type": "code",
   "execution_count": null,
   "metadata": {},
   "outputs": [],
   "source": [
    "def prepare_image(filepath):\n",
    "   img = image.load_img(filepath, target_size=(331, 331))\n",
    "   img_array = image.img_to_array(img)\n",
    "   img_array_expanded_dims = np.expand_dims(img_array, axis=0)\n",
    "   return keras.applications.resnet50.preprocess_input(img_array_expanded_dims)"
   ]
  },
  {
   "cell_type": "code",
   "execution_count": null,
   "metadata": {},
   "outputs": [],
   "source": [
    "img_file='../input/product/train_dir/3/10new.jpg'\n",
    "Image(filename=img_file)"
   ]
  },
  {
   "cell_type": "code",
   "execution_count": null,
   "metadata": {},
   "outputs": [],
   "source": [
    "# check model prediction\n",
    "preprocessed_image = prepare_image(img_file)\n",
    "predictions = model.predict(preprocessed_image)\n",
    "results = decode_predictions(predictions)\n",
    "print(results)"
   ]
  },
  {
   "cell_type": "code",
   "execution_count": null,
   "metadata": {},
   "outputs": [],
   "source": [
    "# Data Generator\n",
    "train_datagen=ImageDataGenerator(preprocessing_function=preprocess_input)\n",
    "\n",
    "train_generator=train_datagen.flow_from_directory('../input/product/train_dir',\n",
    "                                                target_size=(224,224),\n",
    "                                                color_mode='rgb',\n",
    "                                                batch_size=32,\n",
    "                                                class_mode='categorical',\n",
    "                                                shuffle=True)"
   ]
  },
  {
   "cell_type": "code",
   "execution_count": null,
   "metadata": {},
   "outputs": [],
   "source": [
    "num_classes=33\n",
    "base_model=keras.applications.NASNetLarge(input_shape=(331,331,3),weights='imagenet',include_top=False) #imports the mobilenet model and discards the last 1000 neuron layer.\n",
    "\n",
    "# Add Layers to Model\n",
    "x=base_model.output\n",
    "x=GlobalAveragePooling2D()(x)\n",
    "x=Dense(1024,activation='relu')(x) \n",
    "x=Dense(1024,activation='relu')(x) \n",
    "x=Dense(512,activation='relu')(x) \n",
    "preds=Dense(num_classes,activation='softmax')(x) \n",
    "\n",
    "model=Model(inputs=base_model.input,outputs=preds)"
   ]
  },
  {
   "cell_type": "code",
   "execution_count": null,
   "metadata": {},
   "outputs": [],
   "source": [
    "# Check layers no. & name\n",
    "for i,layer in enumerate(model.layers):\n",
    "    print(i,layer.name)"
   ]
  },
  {
   "cell_type": "code",
   "execution_count": null,
   "metadata": {},
   "outputs": [],
   "source": [
    "# set trainable layers\n",
    "for layer in model.layers[:1039]:\n",
    "    layer.trainable=False\n",
    "for layer in model.layers[1039:]:\n",
    "    layer.trainable=True\n",
    "\n",
    "# Compile Model\n",
    "model.compile(loss='categorical_crossentropy', optimizer='adam',metrics=['accuracy'])\n",
    "model.summary()"
   ]
  },
  {
   "cell_type": "code",
   "execution_count": null,
   "metadata": {},
   "outputs": [],
   "source": [
    "# Train Model\n",
    "num_epochs = 10\n",
    "step_size_train=train_generator.n//train_generator.batch_size\n",
    "model.fit_generator(generator=train_generator, steps_per_epoch=step_size_train, epochs=num_epochs)"
   ]
  },
  {
   "cell_type": "code",
   "execution_count": null,
   "metadata": {},
   "outputs": [],
   "source": [
    "img_file='../input/testdata/test.jpg'\n",
    "Image(filename=img_file)"
   ]
  },
  {
   "cell_type": "code",
   "execution_count": null,
   "metadata": {},
   "outputs": [],
   "source": [
    "# Test model\n",
    "preprocessed_image = prepare_image(img_file)\n",
    "predictions = model.predict(preprocessed_image)\n",
    "maxindex = int(np.argmax(predictions))"
   ]
  },
  {
   "cell_type": "code",
   "execution_count": null,
   "metadata": {},
   "outputs": [],
   "source": [
    "classes = np.argmax(predictions, axis = 1)\n",
    "print(classes)"
   ]
  },
  {
   "cell_type": "code",
   "execution_count": null,
   "metadata": {},
   "outputs": [],
   "source": [
    "className = train_generator.class_indices\n",
    "\n",
    "for k, v in className.items():\n",
    "    if v == classes:\n",
    "        print(k)"
   ]
  }
 ],
 "metadata": {
  "kernelspec": {
   "display_name": "Python 3",
   "language": "python",
   "name": "python3"
  },
  "language_info": {
   "codemirror_mode": {
    "name": "ipython",
    "version": 3
   },
   "file_extension": ".py",
   "mimetype": "text/x-python",
   "name": "python",
   "nbconvert_exporter": "python",
   "pygments_lexer": "ipython3",
   "version": "3.8.0"
  }
 },
 "nbformat": 4,
 "nbformat_minor": 4
}
