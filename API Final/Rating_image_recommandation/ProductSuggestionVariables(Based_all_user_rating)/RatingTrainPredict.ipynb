{
  "nbformat": 4,
  "nbformat_minor": 0,
  "metadata": {
    "colab": {
      "name": "RatingTrainPredict.ipynb",
      "provenance": [],
      "collapsed_sections": []
    },
    "kernelspec": {
      "name": "python3",
      "display_name": "Python 3"
    }
  },
  "cells": [
    {
      "cell_type": "code",
      "metadata": {
        "id": "S3SiH0g34W-c"
      },
      "source": [
        "import tensorflow as tf"
      ],
      "execution_count": 1,
      "outputs": []
    },
    {
      "cell_type": "code",
      "metadata": {
        "id": "vd7b6o514rvx"
      },
      "source": [
        "import numpy as np\r\n",
        "W = np.loadtxt('/content/W.csv',delimiter=',')\r\n",
        "hb = np.loadtxt('/content/hb.csv',delimiter=',')\r\n",
        "vb = np.loadtxt('/content/vb.csv',delimiter=',')\r\n",
        "#trX = np.loadtxt('/content/trX.csv',delimiter=',')"
      ],
      "execution_count": 2,
      "outputs": []
    },
    {
      "cell_type": "code",
      "metadata": {
        "id": "g0mmG7r6JWe1"
      },
      "source": [
        "W = tf.convert_to_tensor(W, dtype=tf.float32)\r\n",
        "hb = tf.convert_to_tensor(hb, dtype=tf.float32)\r\n",
        "vb = tf.convert_to_tensor(vb, dtype=tf.float32)"
      ],
      "execution_count": 3,
      "outputs": []
    },
    {
      "cell_type": "code",
      "metadata": {
        "id": "VnA2oaPhuMHC"
      },
      "source": [
        "#Tensorflow library. Used to implement machine learning models\r\n",
        "import tensorflow as tf\r\n",
        "#Numpy contains helpful functions for efficient mathematical calculations\r\n",
        "import numpy as np\r\n",
        "#Dataframe manipulation library\r\n",
        "import pandas as pd\r\n",
        "#Graph plotting library\r\n",
        "import matplotlib.pyplot as plt\r\n",
        "%matplotlib inline"
      ],
      "execution_count": 4,
      "outputs": []
    },
    {
      "cell_type": "code",
      "metadata": {
        "colab": {
          "base_uri": "https://localhost:8080/"
        },
        "id": "IsiHDPV6uYmq",
        "outputId": "b79c814b-71e1-4415-ccec-9bc925fefc44"
      },
      "source": [
        "products_df = pd.read_csv('/content/productsT.csv', sep=',', header=None, engine='python')\r\n",
        "ratings_df = pd.read_csv('/content/ratingsT.csv', sep=',', header=None, engine='python')\r\n",
        "products_df.columns = ['ProductID', 'Title', 'Tags']\r\n",
        "ratings_df.columns = ['UserID', 'ProductID', 'Rating']\r\n",
        "\r\n",
        "\r\n",
        "user_rating_df = ratings_df.pivot_table(index='UserID', columns='ProductID', values='Rating')\r\n",
        "norm_user_rating_df = user_rating_df.fillna(0) / 5.0\r\n",
        "trX = norm_user_rating_df.values\r\n",
        "trX[0:5]"
      ],
      "execution_count": 62,
      "outputs": [
        {
          "output_type": "execute_result",
          "data": {
            "text/plain": [
              "array([[0.        , 0.56      , 0.        , 0.        , 0.        ,\n",
              "        0.        , 0.        , 0.        , 0.        , 0.        ,\n",
              "        0.        , 0.        , 0.        , 0.32      , 0.        ,\n",
              "        0.06      , 0.        , 0.60666667, 0.        , 0.        ,\n",
              "        0.        , 0.        , 0.        , 0.        , 0.        ,\n",
              "        0.        , 0.53      , 0.        , 0.        , 0.        ,\n",
              "        0.        , 0.        ],\n",
              "       [0.        , 0.        , 0.1       , 0.        , 0.        ,\n",
              "        0.        , 0.        , 0.        , 0.        , 0.        ,\n",
              "        0.        , 0.        , 0.        , 0.        , 0.        ,\n",
              "        0.        , 0.        , 0.        , 0.        , 0.        ,\n",
              "        0.        , 0.        , 0.        , 0.        , 0.        ,\n",
              "        0.        , 0.36      , 0.        , 0.        , 0.        ,\n",
              "        0.        , 0.        ],\n",
              "       [0.        , 0.54      , 0.        , 0.        , 0.76      ,\n",
              "        0.        , 0.        , 0.        , 0.        , 0.        ,\n",
              "        0.56      , 0.        , 0.        , 0.        , 0.1       ,\n",
              "        0.        , 0.        , 0.        , 0.38      , 0.        ,\n",
              "        0.        , 0.        , 0.        , 0.3       , 0.        ,\n",
              "        0.        , 0.        , 0.78      , 0.        , 0.        ,\n",
              "        0.54      , 0.        ],\n",
              "       [0.        , 0.        , 0.        , 0.        , 0.        ,\n",
              "        0.        , 0.18      , 0.        , 0.22      , 0.        ,\n",
              "        0.08      , 0.78      , 0.        , 0.        , 0.        ,\n",
              "        0.        , 0.98      , 0.72      , 0.        , 0.        ,\n",
              "        0.72      , 0.        , 0.        , 0.04      , 0.        ,\n",
              "        0.        , 0.14      , 0.        , 0.        , 0.        ,\n",
              "        0.        , 0.        ],\n",
              "       [0.        , 0.47      , 0.        , 0.        , 0.        ,\n",
              "        0.        , 0.        , 0.22      , 0.        , 0.44      ,\n",
              "        0.        , 0.        , 0.        , 0.        , 0.        ,\n",
              "        0.        , 0.        , 0.96      , 0.        , 0.        ,\n",
              "        0.        , 0.        , 0.34      , 0.        , 0.        ,\n",
              "        0.72      , 0.        , 0.        , 0.        , 0.        ,\n",
              "        0.        , 0.        ]])"
            ]
          },
          "metadata": {
            "tags": []
          },
          "execution_count": 62
        }
      ]
    },
    {
      "cell_type": "code",
      "metadata": {
        "id": "jtosl4CIuuZg"
      },
      "source": [
        "import pandas as pd \r\n",
        "df = pd.read_csv('/content/trX.csv', sep=',')"
      ],
      "execution_count": 63,
      "outputs": []
    },
    {
      "cell_type": "code",
      "metadata": {
        "id": "Rrz1Cw7vxZok"
      },
      "source": [
        "trX=df.values"
      ],
      "execution_count": 64,
      "outputs": []
    },
    {
      "cell_type": "code",
      "metadata": {
        "colab": {
          "base_uri": "https://localhost:8080/"
        },
        "id": "ZILWiAB_xcOK",
        "outputId": "044f2f0e-c5d3-41aa-f8c7-c33c6ff765ca"
      },
      "source": [
        "trX"
      ],
      "execution_count": 65,
      "outputs": [
        {
          "output_type": "execute_result",
          "data": {
            "text/plain": [
              "array([[0.        , 0.56      , 0.        , 0.        , 0.        ,\n",
              "        0.        , 0.        , 0.        , 0.        , 0.        ,\n",
              "        0.        , 0.        , 0.        , 0.32      , 0.        ,\n",
              "        0.06      , 0.        , 0.60666667, 0.        , 0.        ,\n",
              "        0.        , 0.        , 0.        , 0.        , 0.        ,\n",
              "        0.        , 0.53      , 0.        , 0.        , 0.        ,\n",
              "        0.        , 0.        ],\n",
              "       [0.        , 0.        , 0.1       , 0.        , 0.        ,\n",
              "        0.        , 0.        , 0.        , 0.        , 0.        ,\n",
              "        0.        , 0.        , 0.        , 0.        , 0.        ,\n",
              "        0.        , 0.        , 0.        , 0.        , 0.        ,\n",
              "        0.        , 0.        , 0.        , 0.        , 0.        ,\n",
              "        0.        , 0.36      , 0.        , 0.        , 0.        ,\n",
              "        0.        , 0.        ],\n",
              "       [0.        , 0.54      , 0.        , 0.        , 0.76      ,\n",
              "        0.        , 0.        , 0.        , 0.        , 0.        ,\n",
              "        0.56      , 0.        , 0.        , 0.        , 0.1       ,\n",
              "        0.        , 0.        , 0.        , 0.38      , 0.        ,\n",
              "        0.        , 0.        , 0.        , 0.3       , 0.        ,\n",
              "        0.        , 0.        , 0.78      , 0.        , 0.        ,\n",
              "        0.54      , 0.        ],\n",
              "       [0.        , 0.        , 0.        , 0.        , 0.        ,\n",
              "        0.        , 0.18      , 0.        , 0.22      , 0.        ,\n",
              "        0.08      , 0.78      , 0.        , 0.        , 0.        ,\n",
              "        0.        , 0.98      , 0.72      , 0.        , 0.        ,\n",
              "        0.72      , 0.        , 0.        , 0.04      , 0.        ,\n",
              "        0.        , 0.14      , 0.        , 0.        , 0.        ,\n",
              "        0.        , 0.        ],\n",
              "       [0.        , 0.47      , 0.        , 0.        , 0.        ,\n",
              "        0.        , 0.        , 0.22      , 0.        , 0.44      ,\n",
              "        0.        , 0.        , 0.        , 0.        , 0.        ,\n",
              "        0.        , 0.        , 0.96      , 0.        , 0.        ,\n",
              "        0.        , 0.        , 0.34      , 0.        , 0.        ,\n",
              "        0.72      , 0.        , 0.        , 0.        , 0.        ,\n",
              "        0.        , 0.        ],\n",
              "       [0.        , 0.        , 0.        , 0.        , 0.1       ,\n",
              "        0.        , 0.        , 0.        , 0.        , 0.        ,\n",
              "        0.        , 0.84      , 0.        , 0.        , 0.        ,\n",
              "        0.        , 0.32      , 0.8       , 0.        , 0.        ,\n",
              "        0.        , 0.        , 0.04      , 0.        , 0.        ,\n",
              "        0.        , 0.22      , 0.        , 0.        , 0.        ,\n",
              "        0.        , 0.        ],\n",
              "       [0.4       , 0.        , 0.        , 0.        , 0.        ,\n",
              "        0.        , 0.        , 0.58      , 0.        , 0.        ,\n",
              "        0.        , 0.8       , 0.        , 0.        , 0.        ,\n",
              "        0.        , 0.8       , 0.        , 0.        , 0.        ,\n",
              "        0.64      , 0.        , 0.        , 0.        , 0.68      ,\n",
              "        0.        , 0.        , 0.        , 0.22      , 0.        ,\n",
              "        0.        , 0.        ],\n",
              "       [0.        , 0.        , 0.        , 0.        , 0.92      ,\n",
              "        0.        , 0.        , 0.        , 0.        , 0.        ,\n",
              "        0.        , 0.34      , 0.        , 0.        , 0.        ,\n",
              "        0.        , 0.        , 0.        , 0.        , 0.        ,\n",
              "        0.        , 0.        , 0.        , 0.        , 0.        ,\n",
              "        0.58      , 0.        , 0.        , 0.        , 0.49      ,\n",
              "        0.        , 0.        ],\n",
              "       [0.        , 0.        , 0.        , 0.        , 0.        ,\n",
              "        0.        , 0.4       , 0.        , 0.        , 0.        ,\n",
              "        0.        , 0.        , 0.        , 0.        , 0.        ,\n",
              "        0.        , 0.52      , 0.        , 0.        , 0.        ,\n",
              "        0.        , 0.06      , 0.        , 0.        , 0.        ,\n",
              "        0.        , 0.        , 0.54      , 0.02      , 0.        ,\n",
              "        0.        , 0.36      ],\n",
              "       [0.        , 0.        , 0.        , 0.        , 0.        ,\n",
              "        0.        , 0.        , 0.        , 0.48      , 0.        ,\n",
              "        0.        , 0.        , 0.        , 0.        , 0.        ,\n",
              "        0.46      , 0.        , 0.        , 0.        , 0.        ,\n",
              "        0.        , 0.        , 0.        , 0.        , 0.        ,\n",
              "        0.        , 0.        , 0.        , 0.        , 0.        ,\n",
              "        0.        , 0.        ],\n",
              "       [0.        , 0.        , 0.31      , 0.        , 0.        ,\n",
              "        0.4       , 0.        , 0.48      , 0.        , 0.74      ,\n",
              "        0.        , 0.        , 0.        , 0.        , 0.        ,\n",
              "        0.        , 0.        , 0.        , 0.        , 0.        ,\n",
              "        0.7       , 0.        , 0.        , 0.71      , 0.        ,\n",
              "        0.22      , 0.        , 0.        , 0.        , 0.        ,\n",
              "        0.        , 0.        ],\n",
              "       [0.6       , 1.        , 0.        , 0.        , 0.7       ,\n",
              "        0.        , 0.        , 0.        , 0.18      , 0.        ,\n",
              "        0.        , 0.        , 0.        , 0.        , 0.66      ,\n",
              "        0.62      , 0.        , 0.        , 0.        , 0.        ,\n",
              "        0.        , 0.        , 0.86      , 0.        , 0.        ,\n",
              "        0.84      , 0.        , 0.        , 0.94      , 0.        ,\n",
              "        0.        , 0.        ],\n",
              "       [0.        , 0.16      , 0.        , 0.        , 0.34      ,\n",
              "        0.        , 0.        , 0.26      , 0.        , 0.        ,\n",
              "        0.        , 0.        , 0.        , 0.        , 0.        ,\n",
              "        0.        , 0.        , 0.33      , 0.54      , 0.94      ,\n",
              "        0.        , 0.9       , 0.        , 0.        , 0.        ,\n",
              "        0.78      , 0.        , 0.        , 0.        , 0.        ,\n",
              "        0.        , 0.        ],\n",
              "       [0.        , 0.98      , 0.        , 0.        , 0.        ,\n",
              "        0.        , 0.        , 0.        , 0.        , 0.        ,\n",
              "        0.        , 0.        , 0.        , 0.        , 0.        ,\n",
              "        0.        , 0.        , 0.96      , 0.        , 0.        ,\n",
              "        0.28      , 0.        , 0.        , 0.        , 0.        ,\n",
              "        0.        , 0.42      , 0.        , 0.        , 0.        ,\n",
              "        0.        , 0.        ],\n",
              "       [0.62      , 0.06      , 0.        , 0.14      , 0.        ,\n",
              "        0.        , 0.        , 0.        , 0.        , 0.        ,\n",
              "        0.        , 0.        , 0.        , 0.        , 0.        ,\n",
              "        0.        , 1.        , 0.        , 0.        , 0.        ,\n",
              "        0.        , 0.        , 0.        , 0.        , 0.        ,\n",
              "        0.        , 0.9       , 0.        , 0.        , 0.58      ,\n",
              "        0.        , 0.        ],\n",
              "       [0.        , 0.06      , 0.        , 0.        , 0.72      ,\n",
              "        0.        , 0.06      , 0.34      , 0.        , 0.        ,\n",
              "        0.        , 0.        , 0.        , 0.        , 0.        ,\n",
              "        0.48      , 0.        , 0.        , 0.        , 0.22      ,\n",
              "        0.26      , 0.        , 0.        , 0.        , 0.14      ,\n",
              "        0.28      , 0.        , 0.        , 0.        , 0.        ,\n",
              "        0.36      , 0.        ],\n",
              "       [0.24      , 0.        , 0.        , 0.        , 0.        ,\n",
              "        0.14      , 0.        , 0.        , 0.        , 0.        ,\n",
              "        0.76      , 0.        , 0.        , 0.        , 0.47      ,\n",
              "        0.        , 0.2       , 0.        , 0.        , 0.        ,\n",
              "        0.        , 0.24      , 0.        , 0.        , 0.        ,\n",
              "        0.        , 0.        , 0.        , 0.        , 0.        ,\n",
              "        0.        , 0.38      ],\n",
              "       [0.        , 0.        , 0.        , 0.        , 0.        ,\n",
              "        0.        , 0.86      , 0.        , 0.        , 0.        ,\n",
              "        0.        , 0.        , 0.        , 0.        , 0.        ,\n",
              "        0.        , 0.        , 0.        , 0.        , 0.        ,\n",
              "        0.79      , 0.        , 0.        , 0.        , 0.        ,\n",
              "        0.        , 0.16      , 0.        , 0.94      , 0.        ,\n",
              "        0.64      , 0.        ],\n",
              "       [0.        , 0.        , 0.        , 0.        , 0.        ,\n",
              "        0.        , 0.        , 0.        , 0.        , 0.        ,\n",
              "        0.        , 0.        , 0.28      , 0.22      , 0.4       ,\n",
              "        0.        , 0.        , 0.3       , 0.44      , 0.        ,\n",
              "        0.02      , 0.        , 0.        , 0.        , 0.        ,\n",
              "        0.        , 0.        , 0.        , 0.34      , 0.44      ,\n",
              "        0.        , 0.        ],\n",
              "       [0.        , 0.        , 0.        , 0.        , 0.        ,\n",
              "        0.        , 0.84      , 0.        , 0.        , 0.        ,\n",
              "        0.        , 0.        , 0.        , 0.        , 0.12      ,\n",
              "        0.        , 0.        , 0.        , 0.        , 0.        ,\n",
              "        0.        , 0.        , 0.        , 0.        , 0.        ,\n",
              "        0.        , 0.        , 0.32      , 0.        , 0.        ,\n",
              "        0.        , 0.24      ],\n",
              "       [0.        , 0.        , 0.44      , 0.        , 0.        ,\n",
              "        0.7       , 0.8       , 0.        , 0.        , 0.        ,\n",
              "        0.78      , 0.        , 0.        , 0.44      , 0.42      ,\n",
              "        0.        , 0.        , 0.        , 0.        , 0.        ,\n",
              "        0.        , 0.        , 0.        , 0.        , 0.        ,\n",
              "        0.        , 0.4       , 0.        , 0.        , 0.24      ,\n",
              "        0.        , 0.        ],\n",
              "       [0.        , 0.        , 0.        , 0.        , 0.        ,\n",
              "        0.        , 0.        , 0.        , 0.        , 0.12      ,\n",
              "        0.72      , 0.16      , 0.        , 0.        , 0.        ,\n",
              "        0.        , 0.        , 0.52      , 0.        , 0.        ,\n",
              "        0.        , 0.08      , 0.18      , 0.        , 0.        ,\n",
              "        0.        , 0.        , 0.66      , 0.        , 0.        ,\n",
              "        0.        , 0.        ],\n",
              "       [0.        , 0.        , 0.34      , 0.34      , 0.        ,\n",
              "        0.        , 0.        , 0.        , 0.        , 0.        ,\n",
              "        0.        , 0.        , 0.        , 0.        , 0.        ,\n",
              "        0.78      , 0.        , 0.        , 0.        , 0.        ,\n",
              "        0.        , 0.72      , 0.        , 0.        , 0.        ,\n",
              "        0.        , 0.        , 0.        , 0.        , 0.        ,\n",
              "        0.        , 0.        ],\n",
              "       [0.58      , 0.24      , 0.        , 0.        , 0.        ,\n",
              "        0.        , 0.        , 0.        , 0.58      , 0.        ,\n",
              "        0.        , 0.        , 0.        , 0.        , 0.32      ,\n",
              "        0.        , 0.        , 0.        , 0.        , 0.44      ,\n",
              "        0.        , 0.        , 0.        , 0.        , 0.        ,\n",
              "        0.        , 0.14      , 0.        , 0.        , 0.        ,\n",
              "        0.        , 0.14      ],\n",
              "       [0.        , 0.        , 0.        , 0.        , 0.        ,\n",
              "        0.        , 0.        , 0.        , 0.        , 0.        ,\n",
              "        0.        , 0.        , 0.        , 0.        , 0.        ,\n",
              "        0.        , 0.        , 0.        , 0.        , 0.        ,\n",
              "        0.        , 0.84      , 0.        , 0.        , 0.        ,\n",
              "        0.        , 0.        , 0.        , 0.        , 0.        ,\n",
              "        0.        , 0.        ],\n",
              "       [0.        , 0.        , 0.        , 0.        , 0.        ,\n",
              "        0.        , 0.        , 0.        , 0.        , 0.        ,\n",
              "        0.        , 0.        , 0.        , 0.        , 0.        ,\n",
              "        0.        , 0.        , 0.        , 0.        , 0.        ,\n",
              "        0.        , 0.        , 0.58      , 0.        , 0.        ,\n",
              "        0.        , 0.        , 0.        , 0.        , 0.        ,\n",
              "        0.        , 0.        ],\n",
              "       [0.88      , 0.        , 0.        , 0.        , 0.        ,\n",
              "        0.        , 0.        , 0.        , 0.        , 0.        ,\n",
              "        0.        , 0.        , 0.        , 0.        , 0.8       ,\n",
              "        0.        , 0.22      , 0.76      , 0.        , 0.        ,\n",
              "        0.        , 0.        , 0.        , 0.        , 0.        ,\n",
              "        0.        , 0.74      , 0.66      , 0.        , 0.        ,\n",
              "        0.28      , 0.        ],\n",
              "       [0.        , 0.        , 0.        , 0.        , 0.        ,\n",
              "        0.        , 0.        , 0.        , 0.        , 0.        ,\n",
              "        0.        , 0.62      , 0.56      , 0.02      , 0.        ,\n",
              "        0.        , 0.        , 0.79      , 0.        , 0.        ,\n",
              "        0.        , 0.        , 0.        , 0.14      , 0.06      ,\n",
              "        0.        , 0.        , 0.        , 0.9       , 0.85      ,\n",
              "        0.        , 0.22      ],\n",
              "       [0.        , 0.        , 0.        , 0.        , 0.        ,\n",
              "        0.06      , 0.        , 0.        , 0.        , 0.42      ,\n",
              "        0.        , 0.        , 0.64      , 0.        , 0.        ,\n",
              "        0.        , 0.        , 0.        , 0.        , 0.        ,\n",
              "        0.        , 0.        , 0.        , 0.        , 0.        ,\n",
              "        0.        , 0.        , 0.        , 0.        , 0.        ,\n",
              "        0.        , 0.        ],\n",
              "       [0.        , 0.66      , 0.4       , 0.        , 0.49      ,\n",
              "        0.        , 0.        , 0.        , 0.        , 0.        ,\n",
              "        0.        , 0.        , 0.2       , 0.        , 0.6       ,\n",
              "        0.        , 0.        , 1.        , 0.        , 0.54      ,\n",
              "        0.        , 0.        , 0.28      , 0.        , 0.        ,\n",
              "        0.4       , 0.        , 0.84      , 0.        , 0.        ,\n",
              "        0.44      , 0.54      ]])"
            ]
          },
          "metadata": {
            "tags": []
          },
          "execution_count": 65
        }
      ]
    },
    {
      "cell_type": "code",
      "metadata": {
        "id": "bjQiID5YyVEY"
      },
      "source": [
        "mock_user_id = 1"
      ],
      "execution_count": 66,
      "outputs": []
    },
    {
      "cell_type": "code",
      "metadata": {
        "id": "IOYWHk-Yya3Z"
      },
      "source": [
        "#Selecting the input user\r\n",
        "\r\n",
        "inputUser = trX[mock_user_id-1].reshape(1, -1)\r\n",
        "inputUser = tf.convert_to_tensor(trX[mock_user_id-1],\"float32\")\r\n",
        "v0 = inputUser"
      ],
      "execution_count": 67,
      "outputs": []
    },
    {
      "cell_type": "code",
      "metadata": {
        "colab": {
          "base_uri": "https://localhost:8080/"
        },
        "id": "FS-pVRmXydKo",
        "outputId": "3f0d0bd5-3098-40ef-ee42-dc4f92e87684"
      },
      "source": [
        "#Feeding in the user and reconstructing the input\r\n",
        "\r\n",
        "hh0 = tf.nn.sigmoid(tf.matmul([v0], W) + hb)\r\n",
        "vv1 = tf.nn.sigmoid(tf.matmul(hh0, tf.transpose(W)) + vb)\r\n",
        "rec = vv1\r\n",
        "tf.maximum(rec,1)"
      ],
      "execution_count": 68,
      "outputs": [
        {
          "output_type": "execute_result",
          "data": {
            "text/plain": [
              "<tf.Tensor: shape=(1, 32), dtype=float32, numpy=\n",
              "array([[1., 1., 1., 1., 1., 1., 1., 1., 1., 1., 1., 1., 1., 1., 1., 1.,\n",
              "        1., 1., 1., 1., 1., 1., 1., 1., 1., 1., 1., 1., 1., 1., 1., 1.]],\n",
              "      dtype=float32)>"
            ]
          },
          "metadata": {
            "tags": []
          },
          "execution_count": 68
        }
      ]
    },
    {
      "cell_type": "code",
      "metadata": {
        "colab": {
          "base_uri": "https://localhost:8080/",
          "height": 204
        },
        "id": "Dkoki1m8yfPC",
        "outputId": "24d6182c-ac66-4509-c5f7-281a737918d8"
      },
      "source": [
        "scored_products_df_mock = products_df[products_df['ProductID'].isin(user_rating_df.columns)]\r\n",
        "scored_products_df_mock = scored_products_df_mock.assign(RecommendationScore = rec[0])\r\n",
        "scored_products_df_mock.sort_values([\"RecommendationScore\"], ascending=False).head(5)"
      ],
      "execution_count": 70,
      "outputs": [
        {
          "output_type": "execute_result",
          "data": {
            "text/html": [
              "<div>\n",
              "<style scoped>\n",
              "    .dataframe tbody tr th:only-of-type {\n",
              "        vertical-align: middle;\n",
              "    }\n",
              "\n",
              "    .dataframe tbody tr th {\n",
              "        vertical-align: top;\n",
              "    }\n",
              "\n",
              "    .dataframe thead th {\n",
              "        text-align: right;\n",
              "    }\n",
              "</style>\n",
              "<table border=\"1\" class=\"dataframe\">\n",
              "  <thead>\n",
              "    <tr style=\"text-align: right;\">\n",
              "      <th></th>\n",
              "      <th>ProductID</th>\n",
              "      <th>Title</th>\n",
              "      <th>Tags</th>\n",
              "      <th>RecommendationScore</th>\n",
              "    </tr>\n",
              "  </thead>\n",
              "  <tbody>\n",
              "    <tr>\n",
              "      <th>17</th>\n",
              "      <td>18</td>\n",
              "      <td>Lotus Herbals Divine Dew Herbal Sindoor</td>\n",
              "      <td>Cream</td>\n",
              "      <td>0.302694</td>\n",
              "    </tr>\n",
              "    <tr>\n",
              "      <th>14</th>\n",
              "      <td>15</td>\n",
              "      <td>Blue Heaven Studio Perfection Primer</td>\n",
              "      <td>Concealer</td>\n",
              "      <td>0.196759</td>\n",
              "    </tr>\n",
              "    <tr>\n",
              "      <th>1</th>\n",
              "      <td>2</td>\n",
              "      <td>Eljuda Emulsion +</td>\n",
              "      <td>Concealer</td>\n",
              "      <td>0.194262</td>\n",
              "    </tr>\n",
              "    <tr>\n",
              "      <th>16</th>\n",
              "      <td>17</td>\n",
              "      <td>Lakme Rose Face Cream</td>\n",
              "      <td>Cream</td>\n",
              "      <td>0.114166</td>\n",
              "    </tr>\n",
              "    <tr>\n",
              "      <th>6</th>\n",
              "      <td>7</td>\n",
              "      <td>Igora Royal Pixam F Fiberplex Color N14</td>\n",
              "      <td>Concealer</td>\n",
              "      <td>0.107959</td>\n",
              "    </tr>\n",
              "  </tbody>\n",
              "</table>\n",
              "</div>"
            ],
            "text/plain": [
              "    ProductID  ... RecommendationScore\n",
              "17         18  ...            0.302694\n",
              "14         15  ...            0.196759\n",
              "1           2  ...            0.194262\n",
              "16         17  ...            0.114166\n",
              "6           7  ...            0.107959\n",
              "\n",
              "[5 rows x 4 columns]"
            ]
          },
          "metadata": {
            "tags": []
          },
          "execution_count": 70
        }
      ]
    },
    {
      "cell_type": "code",
      "metadata": {
        "id": "ShaLXXbJyiGD"
      },
      "source": [
        "df = pd.DataFrame(scored_products_df_mock.sort_values([\"RecommendationScore\"], ascending=False).head(10)['ProductID'])"
      ],
      "execution_count": null,
      "outputs": []
    },
    {
      "cell_type": "code",
      "metadata": {
        "id": "0dvPH-98gFzl"
      },
      "source": [
        "import json\r\n",
        "jsonObject = json.loads(df.to_json(orient='values'))\r\n"
      ],
      "execution_count": null,
      "outputs": []
    },
    {
      "cell_type": "code",
      "metadata": {
        "id": "AJty8c4qgVhZ"
      },
      "source": [
        "listExample=[]\r\n",
        "for i in jsonObject:\r\n",
        "    for number in i:\r\n",
        "        listExample.append(number)"
      ],
      "execution_count": null,
      "outputs": []
    },
    {
      "cell_type": "code",
      "metadata": {
        "colab": {
          "base_uri": "https://localhost:8080/"
        },
        "id": "hSmDbkmJoevn",
        "outputId": "c7235344-40bf-482a-f7ff-78c9e1195742"
      },
      "source": [
        "listExample"
      ],
      "execution_count": null,
      "outputs": [
        {
          "output_type": "execute_result",
          "data": {
            "text/plain": [
              "[15, 18, 2, 28, 5, 16, 26, 20, 3, 11]"
            ]
          },
          "metadata": {
            "tags": []
          },
          "execution_count": 38
        }
      ]
    },
    {
      "cell_type": "code",
      "metadata": {
        "id": "DD3kEUPOrJyA"
      },
      "source": [
        ""
      ],
      "execution_count": null,
      "outputs": []
    }
  ]
}